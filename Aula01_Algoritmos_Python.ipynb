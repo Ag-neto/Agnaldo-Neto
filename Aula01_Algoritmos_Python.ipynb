{
  "nbformat": 4,
  "nbformat_minor": 0,
  "metadata": {
    "colab": {
      "name": "Aula01-Algoritmos-Python.ipynb",
      "provenance": [],
      "authorship_tag": "ABX9TyPckMdGnXOAUsAlD9Kr0geB",
      "include_colab_link": true
    },
    "kernelspec": {
      "name": "python3",
      "display_name": "Python 3"
    },
    "language_info": {
      "name": "python"
    }
  },
  "cells": [
    {
      "cell_type": "markdown",
      "metadata": {
        "id": "view-in-github",
        "colab_type": "text"
      },
      "source": [
        "<a href=\"https://colab.research.google.com/github/Ag-neto/Agnaldo-Neto/blob/master/Aula01_Algoritmos_Python.ipynb\" target=\"_parent\"><img src=\"https://colab.research.google.com/assets/colab-badge.svg\" alt=\"Open In Colab\"/></a>"
      ]
    },
    {
      "cell_type": "markdown",
      "source": [
        "Disciplina: Paradigmas de Linguagens de Programacao Autor: Agnaldo Neto Problema: Faca um programa que leia tres numeros e mostre o maior deles"
      ],
      "metadata": {
        "id": "0-X_XUy8WPkE"
      }
    },
    {
      "cell_type": "code",
      "execution_count": 1,
      "metadata": {
        "colab": {
          "base_uri": "https://localhost:8080/"
        },
        "id": "nt1UcT_fUhyB",
        "outputId": "c281233b-c842-4e82-e8ef-5ab3b50183b1"
      },
      "outputs": [
        {
          "name": "stdout",
          "output_type": "stream",
          "text": [
            "Digite um numero: 25\n",
            "Digite outro numero: 36\n",
            "Digite mais um numero: 14\n"
          ]
        }
      ],
      "source": [
        "# Dados de entrada\n",
        "numero1 = float(input(\"Digite um numero: \"))\n",
        "numero2 = float(input(\"Digite outro numero: \"))\n",
        "numero3 = float(input(\"Digite mais um numero: \"))\n"
      ]
    },
    {
      "cell_type": "code",
      "source": [
        "# Instrucoes Logicas e Saida de Dados..\n",
        "# A estrutura de decisao que vamos usar sera o if, elif, else..\n",
        "# como saida de dados utilizaremos o comando print..\n",
        "if (numero1 > numero2) and (numero1 > numero3):\n",
        "  print(f\"{numero1} foi o maior digitado.\")\n",
        "elif (numero2 > numero1) and (numero2 > numero3):\n",
        "    print(f\"{numero2} foi o maior numero digitado.\")\n",
        "else: \n",
        "  print(f\"{numero3} foi o maior numero digitado.\")"
      ],
      "metadata": {
        "colab": {
          "base_uri": "https://localhost:8080/"
        },
        "id": "rSI1o6fmWJs6",
        "outputId": "bc664a12-6315-4989-8fbd-e4df4f4e52e4"
      },
      "execution_count": 2,
      "outputs": [
        {
          "output_type": "stream",
          "name": "stdout",
          "text": [
            "36.0 foi o maior numero digitado.\n"
          ]
        }
      ]
    }
  ]
}