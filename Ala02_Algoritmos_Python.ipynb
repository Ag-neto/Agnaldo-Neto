{
  "nbformat": 4,
  "nbformat_minor": 0,
  "metadata": {
    "colab": {
      "name": "Ala02-Algoritmos-Python.ipynb",
      "provenance": [],
      "authorship_tag": "ABX9TyPn3EwoKJId8o7f+z0zSLqA",
      "include_colab_link": true
    },
    "kernelspec": {
      "name": "python3",
      "display_name": "Python 3"
    },
    "language_info": {
      "name": "python"
    }
  },
  "cells": [
    {
      "cell_type": "markdown",
      "metadata": {
        "id": "view-in-github",
        "colab_type": "text"
      },
      "source": [
        "<a href=\"https://colab.research.google.com/github/Ag-neto/Agnaldo-Neto/blob/master/Ala02_Algoritmos_Python.ipynb\" target=\"_parent\"><img src=\"https://colab.research.google.com/assets/colab-badge.svg\" alt=\"Open In Colab\"/></a>"
      ]
    },
    {
      "cell_type": "markdown",
      "source": [
        "Faca um programa para o calculo de uma folha de pagamento, sabendo que os descontos sao do imposto de renda, que depende do salario bruto(conforme tabela abaixo) e 10% para o INSS e que o FGTS corresponde a 11% do Salario Bruto, mas nao e descontado(e a empresa que deposita).\n",
        "O Salario Liquido corresponde ao Salario Bruto menos os descontos. O programa devera pedir ao usuario o valor da sua hora e a quantidade de horas trabalhadas no mes.\n",
        "Desconto do IR: Salario Bruto ate 900(inclusive)-isento Salario Bruto ate 1500(inclusive) -isento Salario Bruto ate 1500(inclusive)-desconto de 5% Salario Bruto ate 2500(inclusive) "
      ],
      "metadata": {
        "id": "aOMY_waHcYIs"
      }
    },
    {
      "cell_type": "code",
      "execution_count": 1,
      "metadata": {
        "colab": {
          "base_uri": "https://localhost:8080/"
        },
        "id": "8HSfHEmqcQmE",
        "outputId": "8ea4d367-64f9-458b-9130-f5ba8fce67fd"
      },
      "outputs": [
        {
          "name": "stdout",
          "output_type": "stream",
          "text": [
            "Digite quanto voce recebe por hora: 10\n",
            "Digite quantas horas voce trabalhou esse mes: 180\n"
          ]
        }
      ],
      "source": [
        "# coletando os Dados de Entrada da folha de pagamento\n",
        "valor_da_hora = float(input(\"Digite quanto voce recebe por hora: \"))\n",
        "horas_trabalhadas = float(input(\"Digite quantas horas voce trabalhou esse mes: \"))"
      ]
    },
    {
      "cell_type": "code",
      "source": [
        "# Calculando os valores dos descontos.\n",
        "\n",
        "# Calculando o valor do salario bruto\n",
        "salario_bruto = valor_da_hora * horas_trabalhadas \n",
        "\n",
        "# Calculando o valor do desconto do Imposto de Renda PF.\n",
        "if  (salario_bruto <= 900):\n",
        "  desconto_ir = 0.0\n",
        "elif (salario_bruto <= 1500):\n",
        "  desconto_ir = 5\n",
        "elif (salario_bruto <= 2500):\n",
        "  desconto_ir = 10\n",
        "else:\n",
        "  desconto_ir = 20\n",
        "\n",
        "#Calculando os outros descontos de IR, INSS, FGTS, Salario Liquido..\n",
        "\n",
        "IR = salario_bruto * (desconto_ir / 100)\n",
        "INSS = salario_bruto * (10 / 100)\n",
        "FGTS = salario_bruto * (11 / 100)\n",
        "total_de_descontos = IR + INSS\n",
        "salario_liquido = salario_bruto - total_de_descontos"
      ],
      "metadata": {
        "id": "XkNr0BfKfp0W"
      },
      "execution_count": 2,
      "outputs": []
    },
    {
      "cell_type": "code",
      "source": [
        "# Saida dos dados - Resultado Final da Programacao..\n",
        "print (\n",
        "    f\"\\nSalario Bruto                  : R${salario_bruto:.2f}\",\n",
        "    f\"\\n(-) Imposto de Renda (5%)      : R${IR:.2f}\",\n",
        "    f\"\\n(-) Desconto INSS (10%)        : R${INSS:.2f}\",\n",
        "    f\"\\n    Valor do FGTS (11%)        : R${FGTS:.2f}\",\n",
        "    f\"\\nTotal de Descontos Aplicados:  : R${total_de_descontos:.2f}\",\n",
        "    f\"\\n Salario Liquido:              : R${salario_liquido:.2f}\",\n",
        ")"
      ],
      "metadata": {
        "colab": {
          "base_uri": "https://localhost:8080/"
        },
        "id": "iDA4Wz1yhrpE",
        "outputId": "b3312536-8151-4fb6-b394-0362c5d2dd1d"
      },
      "execution_count": 3,
      "outputs": [
        {
          "output_type": "stream",
          "name": "stdout",
          "text": [
            "\n",
            "Salario Bruto                  : R$1800.00 \n",
            "(-) Imposto de Renda (5%)      : R$180.00 \n",
            "(-) Desconto INSS (10%)        : R$180.00 \n",
            "    Valor do FGTS (11%)        : R$198.00 \n",
            "Total de Descontos Aplicados:  : R$360.00 \n",
            " Salario Liquido:              : R$1440.00\n"
          ]
        }
      ]
    }
  ]
}